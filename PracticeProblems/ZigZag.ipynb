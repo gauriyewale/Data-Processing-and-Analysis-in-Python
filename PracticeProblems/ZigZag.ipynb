{
 "cells": [
  {
   "cell_type": "markdown",
   "metadata": {},
   "source": [
    "### Given an array A (distinct elements) of size N. Rearrange the elements of array in zig-zag fashion. The converted array should be in form a < b > c < d > e < f. The relative order of elements is same in the output i.e you have to iterate on the original array only.\n",
    "\n",
    "### Input: Each test case takes a line containing N space-separated integers denoting the elements of the array.\n",
    "### Output: For each test case, print the array in Zig-Zag fashion.\n"
   ]
  },
  {
   "cell_type": "code",
   "execution_count": 1,
   "metadata": {},
   "outputs": [
    {
     "name": "stdout",
     "output_type": "stream",
     "text": [
      "0\n",
      "[3, 4, 7, 8, 9, 1, 2, 0, 5]\n",
      "1\n",
      "[3, 7, 4, 8, 9, 1, 2, 0, 5]\n",
      "2\n",
      "[3, 7, 4, 8, 9, 1, 2, 0, 5]\n",
      "3\n",
      "[3, 7, 4, 9, 8, 1, 2, 0, 5]\n",
      "4\n",
      "[3, 7, 4, 9, 1, 8, 2, 0, 5]\n",
      "5\n",
      "[3, 7, 4, 9, 1, 8, 2, 0, 5]\n",
      "6\n",
      "[3, 7, 4, 9, 1, 8, 0, 2, 5]\n",
      "7\n",
      "[3, 7, 4, 9, 1, 8, 0, 5, 2]\n"
     ]
    }
   ],
   "source": [
    "array = [4, 3, 7, 8, 9, 1, 2, 0, 5]\n",
    "\n",
    "\n",
    "for i in range(len(array)-1):\n",
    "    if i < len(array):\n",
    "        print(i)\n",
    "        if (i%2 != 0) & (array[i] < array[i+1]):\n",
    "            temp = array[i]\n",
    "            array[i] = array[i+1]\n",
    "            array[i+1] = temp\n",
    "\n",
    "        if (i%2 == 0) & (array[i] > array[i+1]):\n",
    "            temp = array[i]\n",
    "            array[i] = array[i+1]\n",
    "            array[i+1] = temp\n",
    "\n",
    "    print(array)"
   ]
  },
  {
   "cell_type": "code",
   "execution_count": null,
   "metadata": {},
   "outputs": [],
   "source": []
  }
 ],
 "metadata": {
  "kernelspec": {
   "display_name": "Python 3",
   "language": "python",
   "name": "python3"
  },
  "language_info": {
   "codemirror_mode": {
    "name": "ipython",
    "version": 3
   },
   "file_extension": ".py",
   "mimetype": "text/x-python",
   "name": "python",
   "nbconvert_exporter": "python",
   "pygments_lexer": "ipython3",
   "version": "3.7.1"
  }
 },
 "nbformat": 4,
 "nbformat_minor": 2
}
