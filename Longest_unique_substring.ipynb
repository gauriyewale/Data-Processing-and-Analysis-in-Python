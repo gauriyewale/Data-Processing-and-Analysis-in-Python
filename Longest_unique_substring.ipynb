{
 "cells": [
  {
   "cell_type": "markdown",
   "metadata": {},
   "source": [
    "### Given a string S, find length of the longest substring with all distinct characters. For example, for input \"abca\", the output is 3 as \"abc\" is the longest substring with all distinct characters."
   ]
  },
  {
   "cell_type": "code",
   "execution_count": 1,
   "metadata": {},
   "outputs": [
    {
     "name": "stdout",
     "output_type": "stream",
     "text": [
      "['g']\n",
      "['g', 'e']\n",
      "['g', 'e']\n",
      "['g', 'e', 'k']\n",
      "['g', 'e', 'k', 's']\n",
      "['g', 'e', 'k', 's', 'f']\n",
      "['g', 'e', 'k', 's', 'f', 'o']\n",
      "['g', 'e', 'k', 's', 'f', 'o', 'r']\n",
      "['g', 'e', 'k', 's', 'f', 'o', 'r']\n",
      "['g', 'e', 'k', 's', 'f', 'o', 'r']\n",
      "['g', 'e', 'k', 's', 'f', 'o', 'r']\n",
      "['g', 'e', 'k', 's', 'f', 'o', 'r']\n",
      "Length of longest unique substring: 7\n"
     ]
    }
   ],
   "source": [
    "import string\n",
    "\n",
    "strr = \"geeksforgeeks\"\n",
    "\n",
    "unique = []\n",
    "\n",
    "\n",
    "for i in range(0, len(strr) - 1):\n",
    "    if strr[i] not in unique:\n",
    "        unique.append(strr[i])\n",
    "    print(unique)\n",
    "\n",
    "print(f\"Length of longest unique substring: {len(unique)}\")"
   ]
  },
  {
   "cell_type": "code",
   "execution_count": null,
   "metadata": {},
   "outputs": [],
   "source": []
  }
 ],
 "metadata": {
  "kernelspec": {
   "display_name": "Python 3",
   "language": "python",
   "name": "python3"
  },
  "language_info": {
   "codemirror_mode": {
    "name": "ipython",
    "version": 3
   },
   "file_extension": ".py",
   "mimetype": "text/x-python",
   "name": "python",
   "nbconvert_exporter": "python",
   "pygments_lexer": "ipython3",
   "version": "3.7.1"
  }
 },
 "nbformat": 4,
 "nbformat_minor": 2
}
