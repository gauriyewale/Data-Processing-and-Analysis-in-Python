{
 "cells": [
  {
   "cell_type": "markdown",
   "metadata": {},
   "source": [
    "<img src=\"Lab2.2_problem.png\" alt=\"Alt text that describes the graphic\" title=\"Title text\" />"
   ]
  },
  {
   "cell_type": "code",
   "execution_count": 2,
   "metadata": {},
   "outputs": [],
   "source": [
    "#Definition of the show_functions() function\n",
    "def show_functions():\n",
    "    choice = input(\"\"\"\n",
    "*************************************************************************** \n",
    "* 1. Generate overall stats for all products (total #, avg #, min, and max) \n",
    "* 2. Calculate the amount for a given product\n",
    "* 3. Update the amount for a given product\n",
    "* Press any other key if you want to stop \n",
    "***************************************************************************\n",
    "\"\"\")\n",
    "    \n",
    "    return(choice)\n",
    "    "
   ]
  },
  {
   "cell_type": "code",
   "execution_count": 3,
   "metadata": {},
   "outputs": [],
   "source": [
    "#Definition of the gen_stats() function that generates all basic stats of all products, \n",
    "#such as the total amount for all products, the average, the maximum and the minimum.    \n",
    "def gen_stats(product_stock):\n",
    "    \n",
    "    total = 0\n",
    "    for v in product_stock.values():\n",
    "        total += v\n",
    "\n",
    "    avg = total/len(product_stock)\n",
    "\n",
    "    minimum = min(product_stock.values())\n",
    "\n",
    "    maximum = max(product_stock.values())\n",
    "\n",
    "    return total, avg, minimum, maximum"
   ]
  },
  {
   "cell_type": "code",
   "execution_count": 4,
   "metadata": {},
   "outputs": [],
   "source": [
    "#Definition of the check_stock() function that retrieves the corresponding number in stock\n",
    "#for a given product\n",
    "def check_stock(product_stock, product):\n",
    "\n",
    "    remaining_stock = product_stock[product]\n",
    "\n",
    "    return remaining_stock"
   ]
  },
  {
   "cell_type": "code",
   "execution_count": 5,
   "metadata": {},
   "outputs": [],
   "source": [
    "#Definition of the update_stock() function that updates the number in stock for a given product\n",
    "def update_stock(product_stock, product, update_amount):\n",
    "\n",
    "    product_stock[product] += update_amount\n"
   ]
  },
  {
   "cell_type": "code",
   "execution_count": 6,
   "metadata": {},
   "outputs": [
    {
     "name": "stdout",
     "output_type": "stream",
     "text": [
      "The current stock is: {'computer': 35, 'chair': 100, 'desk': 20, 'iphone': 15}\n",
      "\n",
      "*************************************************************************** \n",
      "* 1. Generate overall stats for all products (total #, avg #, min, and max) \n",
      "* 2. Calculate the amount for a given product\n",
      "* 3. Update the amount for a given product\n",
      "* Press any other key if you want to stop \n",
      "***************************************************************************\n",
      "1\n",
      "\n",
      "total: 170 \n",
      "average: 42.5 \n",
      "minimum: 15 \n",
      "maximum: 100 \n",
      "\n",
      "*************************************************************************** \n",
      "* 1. Generate overall stats for all products (total #, avg #, min, and max) \n",
      "* 2. Calculate the amount for a given product\n",
      "* 3. Update the amount for a given product\n",
      "* Press any other key if you want to stop \n",
      "***************************************************************************\n",
      "2\n",
      "Enter the product for which you want to check the stock: chair\n",
      "The remaining stock of chair is 100\n",
      "\n",
      "*************************************************************************** \n",
      "* 1. Generate overall stats for all products (total #, avg #, min, and max) \n",
      "* 2. Calculate the amount for a given product\n",
      "* 3. Update the amount for a given product\n",
      "* Press any other key if you want to stop \n",
      "***************************************************************************\n",
      "n\n",
      "Exiting the product management system\n"
     ]
    }
   ],
   "source": [
    "#Main function is the starting point from where the entire program is executed\n",
    "def main():\n",
    "\n",
    "    product_stock = {\"computer\":35, \"chair\": 100, \"desk\": 20, \"iphone\": 15}\n",
    "    print(f\"The current stock is: {product_stock}\")\n",
    "\n",
    "    #Infinite loop that runs until the user wants to stop\n",
    "    while True:\n",
    "\n",
    "        choice = show_functions()\n",
    "\n",
    "        if choice == '1':\n",
    "\n",
    "            total, avg, minimum, maximum = gen_stats(product_stock)\n",
    "\n",
    "            print(f\"\"\"\\ntotal: {total} \\naverage: {avg} \\nminimum: {minimum} \\nmaximum: {maximum} \"\"\")\n",
    "\n",
    "            continue\n",
    "\n",
    "        elif choice == '2':\n",
    "\n",
    "            product = input(\"Enter the product for which you want to check the stock: \")\n",
    "     \n",
    "            remaining_stock = check_stock(product_stock, product)\n",
    "\n",
    "            print(f\"The remaining stock of {product} is {remaining_stock}\")\n",
    "\n",
    "            continue\n",
    "\n",
    "        elif choice == '3':\n",
    "\n",
    "            product = input(\"Enter the product for which you want to update the stock: \")\n",
    "\n",
    "            update_amount = int(input(\"Enter the amount by which you want to update the product stock: \"))\n",
    "\n",
    "            updated_stock = update_stock(product_stock, product, update_amount)\n",
    "\n",
    "            print(f\"The updated stock of {product} is {product_stock[product]}\")\n",
    "\n",
    "            continue\n",
    "\n",
    "        else:\n",
    "\n",
    "            print(\"Exiting the product management system\")\n",
    "\n",
    "            break\n",
    "\n",
    " \n",
    "\n",
    "if __name__ == '__main__':\n",
    "\n",
    "    main()"
   ]
  },
  {
   "cell_type": "code",
   "execution_count": null,
   "metadata": {},
   "outputs": [],
   "source": []
  }
 ],
 "metadata": {
  "kernelspec": {
   "display_name": "Python 3",
   "language": "python",
   "name": "python3"
  },
  "language_info": {
   "codemirror_mode": {
    "name": "ipython",
    "version": 3
   },
   "file_extension": ".py",
   "mimetype": "text/x-python",
   "name": "python",
   "nbconvert_exporter": "python",
   "pygments_lexer": "ipython3",
   "version": "3.7.1"
  }
 },
 "nbformat": 4,
 "nbformat_minor": 2
}
