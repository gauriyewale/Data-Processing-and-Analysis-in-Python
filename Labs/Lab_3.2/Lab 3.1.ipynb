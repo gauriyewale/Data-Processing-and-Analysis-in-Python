{
 "cells": [
  {
   "cell_type": "code",
   "execution_count": 3,
   "metadata": {},
   "outputs": [
    {
     "name": "stdout",
     "output_type": "stream",
     "text": [
      "Do you want to enter moves? Type 'yes' for adding movements or type 'X' for no movement. yes\n",
      "Enter movement and corresponding steps seperated by space (Example:up 5): up 3\n",
      "Do you want to enter more moves? Type 'yes' for adding moves or type 'X' for no more moves. yes\n",
      "Enter movement and corresponding steps seperated by space (Example:up 5): left 5\n",
      "Do you want to enter more moves? Type 'yes' for adding moves or type 'X' for no more moves. yes\n",
      "Enter movement and corresponding steps seperated by space (Example:up 5): right 3\n",
      "Do you want to enter more moves? Type 'yes' for adding moves or type 'X' for no more moves. yes\n",
      "Enter movement and corresponding steps seperated by space (Example:up 5): down 2\n",
      "Do you want to enter more moves? Type 'yes' for adding moves or type 'X' for no more moves. x\n",
      "2.23606797749979\n"
     ]
    }
   ],
   "source": [
    "#Exercise 1.\n",
    "#A robot moves in a plane starting from the original point (0,0). The robot can move toward UP, DOWN, LEFT, and RIGHT\n",
    "#with a given steps. The trace of robot movement is shown as the following:\n",
    "#UP 7 DOWN 5 LEFT 2 RIGHT 9 X\n",
    "#The numbers after the direction are steps. Please write a Python program to compute the distance from the current \n",
    "#position after a sequence of movement and original point. If the distance is a float, then just print the nearest integer.\n",
    "\n",
    "import math\n",
    "\n",
    "#Initialize variables\n",
    "origin = (0,0)\n",
    "new_pos = [0,0]\n",
    "moves = {}\n",
    "\n",
    "#Take input from user\n",
    "yn = input(\"Do you want to enter moves? Type 'yes' for adding movements or type 'X' for no movement. \").lower()\n",
    "\n",
    "#Loop infinitely until user types 'x'\n",
    "while yn != 'x':\n",
    "    #Store move and corresponding steps\n",
    "    movement_type, steps = input(\"Enter movement and corresponding steps seperated by space (Example:up 5): \").lower().split()\n",
    "    moves[movement_type] = int(steps)\n",
    "    yn = input(\"Do you want to enter more moves? Type 'yes' for adding moves or type 'X' for no more moves. \").lower()\n",
    "    continue\n",
    "\n",
    "#Loop over the dictionary and to adjust the position of the robot\n",
    "for k,v in moves.items():\n",
    "    if k == 'up':\n",
    "        new_pos[0] = v\n",
    "\n",
    "    if k == 'down':\n",
    "        new_pos[0] -= v\n",
    "\n",
    "    if k == 'left':\n",
    "        new_pos[1] -= v\n",
    "\n",
    "    if k == 'right':\n",
    "        new_pos[1] += v\n",
    "\n",
    "#Calculate the euclidean distance\n",
    "euclidean_dist = math.sqrt((new_pos[0]-origin[0])**2 + (new_pos[1]-origin[1])**2)\n",
    "print(euclidean_dist)"
   ]
  },
  {
   "cell_type": "code",
   "execution_count": 2,
   "metadata": {},
   "outputs": [
    {
     "name": "stdout",
     "output_type": "stream",
     "text": [
      "Please provide an article: \n",
      "What is Behavioral Psychology? Let's define behavioral psychology. Behavioral psychology is the study of the connection between our minds and our behavior. Sometimes you will hear behavioral psychology referred to as behaviorism. The researchers and scientists who study behavioral psychology are trying to understand why we behave the way we do and they are concerned with discovering patterns in our actions and behaviors. The hope is that if we can use behavioral psychology to help us predict how humans will behave, we can build better habits as individuals, create better products as companies, and develop better living spaces as communities.\n",
      "x\n",
      "{'actions': 1, 'and': 5, 'are': 2, 'as': 4, 'behave': 1, 'behave,': 1, 'behavior.': 1, 'behavioral': 6, 'behaviorism.': 1, 'behaviors.': 1, 'better': 3, 'between': 1, 'build': 1, 'can': 2, 'communities.': 1, 'companies,': 1, 'concerned': 1, 'connection': 1, 'create': 1, 'define': 1, 'develop': 1, 'discovering': 1, 'do': 1, 'habits': 1, 'hear': 1, 'help': 1, 'hope': 1, 'how': 1, 'humans': 1, 'if': 1, 'in': 1, 'individuals,': 1, 'is': 3, \"let's\": 1, 'living': 1, 'minds': 1, 'of': 1, 'our': 3, 'patterns': 1, 'predict': 1, 'products': 1, 'psychology': 4, 'psychology.': 1, 'psychology?': 1, 'referred': 1, 'researchers': 1, 'scientists': 1, 'sometimes': 1, 'spaces': 1, 'study': 2, 'that': 1, 'the': 5, 'they': 1, 'to': 3, 'trying': 1, 'understand': 1, 'us': 1, 'use': 1, 'way': 1, 'we': 4, 'what': 1, 'who': 1, 'why': 1, 'will': 2, 'with': 1, 'you': 1}\n"
     ]
    }
   ],
   "source": [
    "#Exercise 2.\n",
    "#Write a Python program to compute the frequency of words from the article. \n",
    "#The output should output after sorting the key alphanumerically. \n",
    "#Suppose the article is obtained from the user. The input ends until the user sends a new line: X\n",
    "\n",
    "#Initialize list to store article\n",
    "article = []\n",
    "\n",
    "#Ask user to input article\n",
    "print(\"Please provide an article: \")\n",
    "\n",
    "#Until he enters 'x'\n",
    "while True:\n",
    "\ttext = input()\n",
    "\tif text != 'x':\n",
    "\t\tarticle.append(text)\n",
    "\t\tcontinue\n",
    "\telse:\n",
    "\t\tbreak\n",
    "\n",
    "#Perform some operations on the article\n",
    "article = ' '.join(article)\n",
    "article = article.split()\n",
    "article = [i.lower() for i in article]\n",
    "article.sort()\n",
    "\n",
    "#Function to count the words in article\n",
    "def count(i, article):\n",
    "    len = 0\n",
    "    for x in article:\n",
    "        if x == i:\n",
    "            len += 1\n",
    "    return len\n",
    "\n",
    "#Iterate over the article, store words and corresponding frequency in list\n",
    "dict = {}\n",
    "for i in article: \n",
    "\tdict[i] = count(i, article)\n",
    "\n",
    "print(dict)\n"
   ]
  },
  {
   "cell_type": "code",
   "execution_count": null,
   "metadata": {},
   "outputs": [],
   "source": []
  }
 ],
 "metadata": {
  "kernelspec": {
   "display_name": "Python 3",
   "language": "python",
   "name": "python3"
  },
  "language_info": {
   "codemirror_mode": {
    "name": "ipython",
    "version": 3
   },
   "file_extension": ".py",
   "mimetype": "text/x-python",
   "name": "python",
   "nbconvert_exporter": "python",
   "pygments_lexer": "ipython3",
   "version": "3.7.1"
  }
 },
 "nbformat": 4,
 "nbformat_minor": 2
}
