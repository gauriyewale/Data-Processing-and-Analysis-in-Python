{
 "cells": [
  {
   "cell_type": "markdown",
   "metadata": {},
   "source": [
    "### Write a Python program that prints each item and its corresponding type from the following list.\n",
    "\n",
    "### Sample List: datalist = [1452, 11.23, 1+2j, True, 'University of Maryland', (0, -1), [5, 12], {\"class\":'404', \"section\":'A'}]"
   ]
  },
  {
   "cell_type": "code",
   "execution_count": 1,
   "metadata": {},
   "outputs": [
    {
     "name": "stdout",
     "output_type": "stream",
     "text": [
      " The type of 1452 is: <class 'int'>\n",
      " The type of 11.23 is: <class 'float'>\n",
      " The type of (1+2j) is: <class 'complex'>\n",
      " The type of True is: <class 'bool'>\n",
      " The type of University of Maryland is: <class 'str'>\n",
      " The type of (0, -1) is: <class 'tuple'>\n",
      " The type of [5, 12] is: <class 'list'>\n",
      " The type of {'class': '404', 'section': 'A'} is: <class 'dict'>\n"
     ]
    }
   ],
   "source": [
    "#Sample List\n",
    "datalist = [1452, 11.23, 1+2j, True, 'University of Maryland', (0, -1), [5, 12], {\"class\":'404', \"section\":'A'}]\n",
    "\n",
    "#Iterate over the list and print type of each entry\n",
    "for i in datalist:\n",
    "    print(f\" The type of {i} is: {type(i)}\")"
   ]
  },
  {
   "cell_type": "markdown",
   "metadata": {},
   "source": [
    "### Create a calculator that can add, subtract, multiply or divide depending upon the input from the user, using loop and conditional statements."
   ]
  },
  {
   "cell_type": "code",
   "execution_count": 2,
   "metadata": {},
   "outputs": [
    {
     "name": "stdout",
     "output_type": "stream",
     "text": [
      "Select operation: 1.Add 2.Subtract 3.Multiply 4.Divide\n",
      "Enter choice (1/2/3/4): 1\n",
      "Enter first number: 4\n",
      "Enter second number: 2\n",
      "4 + 2 = 6\n",
      "Do you want to do another calculation (y/n)? n\n",
      "Bye!\n"
     ]
    }
   ],
   "source": [
    "#Function to ask the user if he wants to make another calculation\n",
    "def askUser():\n",
    "    cont = input(\"Do you want to do another calculation (y/n)? \")\n",
    "    if(cont == 'y'):\n",
    "        flag = True\n",
    "    else:\n",
    "        flag = False\n",
    "        print(\"Bye!\")\n",
    "    return flag\n",
    "\n",
    "#Setting the flag to True\n",
    "flag = True \n",
    "\n",
    "#While loop to ask user which operation to perform on calculator\n",
    "while(flag == True):\n",
    "    print(\"Select operation: 1.Add 2.Subtract 3.Multiply 4.Divide\")\n",
    "    choice = input(\"Enter choice (1/2/3/4): \")\n",
    "    first_num = input(\"Enter first number: \")\n",
    "    second_num = input(\"Enter second number: \")\n",
    "    \n",
    "    #Addition Operation\n",
    "    if choice == '1':\n",
    "        result = int(first_num) + int(second_num)\n",
    "        print(f\"{first_num} + {second_num} = {result}\")\n",
    "        flag = askUser()\n",
    "    #Subtraction Operation\n",
    "    elif choice == '2':\n",
    "        result = int(first_num) - int(second_num)\n",
    "        print(f\"{first_num} - {second_num} = {result}\")\n",
    "        flag = askUser()\n",
    "    #Multiplication Operation\n",
    "    elif choice == '3':\n",
    "        result = int(first_num) * int(second_num)\n",
    "        print(f\"{first_num} * {second_num} = {result}\")\n",
    "        flag = askUser()\n",
    "    #Division Operation\n",
    "    else:\n",
    "        result = int(first_num) / int(second_num)\n",
    "        print(f\"{first_num} / {second_num} = {result}\")\n",
    "        flag = askUser()\n"
   ]
  },
  {
   "cell_type": "markdown",
   "metadata": {},
   "source": [
    "### Write a Python program to construct the following pattern, using a nested loop. The longest line (n) is from user input (e.g., n=5 for the following pattern).\n",
    "<img src=\"star_problem.png\" alt=\"Alt text that describes the graphic\" title=\"Title text\" />"
   ]
  },
  {
   "cell_type": "code",
   "execution_count": null,
   "metadata": {},
   "outputs": [],
   "source": [
    "#Using 1 loop\n",
    "n = int(input(\"Enter a number: \"))\n",
    "for i in range(1, n+1):\n",
    "    print('*'*i)\n",
    "    if i == n:\n",
    "        n = n - 1\n",
    "        while(n!=0):\n",
    "            print('*'*n)\n",
    "            n = n - 1\n",
    "        \n",
    "\n",
    "#Using 2 loops\n",
    "n = int(input(\"Enter a number: \"))\n",
    "for i in range(1, n+1):\n",
    "    print('*'*i)\n",
    "\n",
    "n = n - 1\n",
    "while(n!=0):\n",
    "    print('*'*n)\n",
    "    n = n - 1\n"
   ]
  }
 ],
 "metadata": {
  "kernelspec": {
   "display_name": "Python 3",
   "language": "python",
   "name": "python3"
  },
  "language_info": {
   "codemirror_mode": {
    "name": "ipython",
    "version": 3
   },
   "file_extension": ".py",
   "mimetype": "text/x-python",
   "name": "python",
   "nbconvert_exporter": "python",
   "pygments_lexer": "ipython3",
   "version": "3.7.1"
  }
 },
 "nbformat": 4,
 "nbformat_minor": 2
}
