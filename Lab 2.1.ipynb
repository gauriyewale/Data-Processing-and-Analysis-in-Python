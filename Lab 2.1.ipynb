{
 "cells": [
  {
   "cell_type": "markdown",
   "metadata": {},
   "source": [
    "### Write a program that accepts a sentence from the keyboard, calculate and print out each unique character and its corresponding number of occurrence. Don’t count spaces."
   ]
  },
  {
   "cell_type": "code",
   "execution_count": 1,
   "metadata": {},
   "outputs": [
    {
     "name": "stdout",
     "output_type": "stream",
     "text": [
      "Enter a sentence: hi! gauri here\n",
      "{'h': 2, 'i': 2, '!': 1, 'g': 1, 'a': 1, 'u': 1, 'r': 2, 'e': 2}\n"
     ]
    }
   ],
   "source": [
    "#Ask user to enter a sentence and convert it to lower case\n",
    "sent = input(\"Enter a sentence: \").lower()\n",
    "\n",
    "#Function definition to count the number of occurences of a character\n",
    "def count(i, sent):\n",
    "    len = 0\n",
    "    for x in sent:\n",
    "        if x == i:\n",
    "            len += 1\n",
    "    return len\n",
    "\n",
    "#Initialize dictionary\n",
    "dict = {}\n",
    "\n",
    "#Loop over the sentence and display each unique character and its corresponding number of occurences\n",
    "for i in sent:\n",
    "    if i != ' ':\n",
    "        dict[i] = count(i, sent)\n",
    "print(dict)\n"
   ]
  },
  {
   "cell_type": "markdown",
   "metadata": {},
   "source": [
    "### Write a program that can sort a given dictionary either by key or value. The program allows users to choose operations (1: sort by key, 2: sort by value). The given dictionary is: d={'x': 7, 'y': 2, 'a': 3, 'm': 2}"
   ]
  },
  {
   "cell_type": "code",
   "execution_count": null,
   "metadata": {},
   "outputs": [],
   "source": [
    "#Given Dictionary\n",
    "d = {'x': 7, 'y': 2, 'a': 3, 'm': 2}\n",
    "\n",
    "#Definition of sort by key function\n",
    "def sort_by_key(d):\n",
    "    new_dict = {}\n",
    "    keys = list(d.keys())\n",
    "    keys.sort()\n",
    "    for i in keys:\n",
    "        new_dict[i] = d[i]\n",
    "    return new_dict\n",
    "\n",
    "#Definition of sort by value function\n",
    "def sort_by_value(d):\n",
    "    new_dict = {}\n",
    "    values = list(d.values())\n",
    "    values.sort()\n",
    "    for i in values:\n",
    "        for k,v in d.items():\n",
    "            if i == v:\n",
    "                new_dict[k] = i\n",
    "    return new_dict\n",
    "\n",
    "#Ask user for an input \n",
    "sort_type = input(\"Please select: 1. Sort by Key or 2. Sort by Value -->  \")\n",
    "\n",
    "#Check the input entered by the user and call the respective function\n",
    "if sort_type == '1':\n",
    "    sorted_dict = sort_by_key(d)\n",
    "    print(sorted_dict)\n",
    "else:\n",
    "    sorted_dict = sort_by_value(d)\n",
    "    print(sorted_dict)"
   ]
  }
 ],
 "metadata": {
  "kernelspec": {
   "display_name": "Python 3",
   "language": "python",
   "name": "python3"
  },
  "language_info": {
   "codemirror_mode": {
    "name": "ipython",
    "version": 3
   },
   "file_extension": ".py",
   "mimetype": "text/x-python",
   "name": "python",
   "nbconvert_exporter": "python",
   "pygments_lexer": "ipython3",
   "version": "3.7.1"
  }
 },
 "nbformat": 4,
 "nbformat_minor": 2
}
